{
 "cells": [
  {
   "cell_type": "markdown",
   "id": "e73c3516",
   "metadata": {},
   "source": [
    "Philippe Joly 2025-05-25\n",
    "\n",
    "# Data Size Overview\n",
    "\n",
    "This notebook explores the size of the ALBATROS data and how much can be processed within the MIST machine architecture"
   ]
  },
  {
   "cell_type": "markdown",
   "id": "846c72d8",
   "metadata": {},
   "source": [
    "## MIST Machine Specifications\n",
    "Information found here comes from the [MIST Docs](https://docs.scinet.utoronto.ca/index.php/Mist#Specifications)"
   ]
  },
  {
   "cell_type": "markdown",
   "id": "f2be5ebb",
   "metadata": {},
   "source": [
    "Mist is a SciNet-SOSCIP joint GPU cluster consisting of:\n",
    "- 54 IBM AC922 servers\n",
    "- Each node has:\n",
    "    - 32 IBM Power9 cores\n",
    "    - 256 GB RAM\n",
    "    - 4 NVIDIA V100-SMX2 32 GB GPUs"
   ]
  },
  {
   "cell_type": "code",
   "execution_count": 2,
   "id": "2424995e",
   "metadata": {},
   "outputs": [],
   "source": [
    "import numpy as np\n",
    "import matplotlib.pyplot as plt"
   ]
  },
  {
   "cell_type": "markdown",
   "id": "89303170",
   "metadata": {},
   "source": [
    "## ALBATROS Data Size "
   ]
  },
  {
   "cell_type": "markdown",
   "id": "624f0aea",
   "metadata": {},
   "source": [
    "We can first look at the size of the desired output data. As information is conserved through the transforms, it will be sufficient when comparing it to GPU RAM. \n",
    "\n",
    "We can also look at exactly what initial data and parameters are needed to get the desired resultant data"
   ]
  },
  {
   "cell_type": "code",
   "execution_count": 3,
   "id": "7401c961",
   "metadata": {},
   "outputs": [],
   "source": [
    "with np.load(\"/project/s/sievers/mohanagr/xcorr_axion/xcorr_all_ant_4bit_1721361571_14336_64_15326_0_120.npz\") as f:\n",
    "    data = f['data']\n",
    "    mask = f['mask']\n",
    "    missing_fraction = f[\"missing_fraction\"]\n",
    "    chans = f['chans']"
   ]
  },
  {
   "cell_type": "code",
   "execution_count": 4,
   "id": "0f272380",
   "metadata": {},
   "outputs": [
    {
     "name": "stdout",
     "output_type": "stream",
     "text": [
      "Data Shape: (2, 2, 7680, 15326)\n",
      "Mask Shape: (2, 2, 7680, 15326)\n",
      "Missing Fraction Shape: (1, 15326)\n",
      "Channels Shape (7680,)\n"
     ]
    }
   ],
   "source": [
    "print(\"Data Shape:\", data.shape)\n",
    "print(\"Mask Shape:\", mask.shape)\n",
    "print(\"Missing Fraction Shape:\", missing_fraction.shape)\n",
    "print(\"Channels Shape\", chans.shape)"
   ]
  },
  {
   "cell_type": "code",
   "execution_count": 25,
   "id": "84b1870a",
   "metadata": {},
   "outputs": [
    {
     "name": "stdout",
     "output_type": "stream",
     "text": [
      "Data Size: 3.76651776 GB\n",
      "Mask Size: 470.81471999999997 MB\n",
      "Missing Fraction Size: 122.608 kB\n",
      "Channels Size 61.44 kB\n",
      "\n",
      "Predicted File Size 4.2375165280000004 GB\n",
      "File Size (checked on NIAGARA) 4.237517668 GB\n"
     ]
    }
   ],
   "source": [
    "print(\"Data Size:\", data.nbytes*1e-9, \"GB\") # (4 bits * 2 [complex]) * 4 [polarisations] * (120*64) [frequency] * 15326 [time] \n",
    "print(\"Mask Size:\", mask.nbytes*1e-6, \"MB\")\n",
    "print(\"Missing Fraction Size:\", missing_fraction.nbytes*1e-3, \"kB\")\n",
    "print(\"Channels Size\", chans.nbytes*1e-3, \"kB\\n\")\n",
    "\n",
    "print(\"Predicted File Size\", (data.nbytes+mask.nbytes+missing_fraction.nbytes+chans.nbytes)*1e-9, \"GB\")\n",
    "print(\"File Size (checked on NIAGARA) 4.237517668 GB\")"
   ]
  },
  {
   "cell_type": "code",
   "execution_count": 30,
   "id": "631fbfec",
   "metadata": {},
   "outputs": [],
   "source": [
    "def get_size(band, resolution, time, avg_ws):\n",
    "    df_record = 125e6/2048\n",
    "    return 8*4*band/resolution*(time*df_record/avg_ws) "
   ]
  },
  {
   "cell_type": "markdown",
   "id": "85b74630",
   "metadata": {},
   "source": [
    "## Limitations"
   ]
  },
  {
   "cell_type": "code",
   "execution_count": null,
   "id": "612ec1ca",
   "metadata": {},
   "outputs": [],
   "source": []
  }
 ],
 "metadata": {
  "kernelspec": {
   "display_name": "Jupyter",
   "language": "python",
   "name": "jupyter"
  },
  "language_info": {
   "codemirror_mode": {
    "name": "ipython",
    "version": 3
   },
   "file_extension": ".py",
   "mimetype": "text/x-python",
   "name": "python",
   "nbconvert_exporter": "python",
   "pygments_lexer": "ipython3",
   "version": "3.6.8"
  }
 },
 "nbformat": 4,
 "nbformat_minor": 5
}
