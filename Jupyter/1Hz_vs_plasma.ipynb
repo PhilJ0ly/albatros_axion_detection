{
 "cells": [
  {
   "cell_type": "markdown",
   "id": "62750c33",
   "metadata": {},
   "source": [
    "Philippe Joly 2025-06-11\n",
    "\n",
    "# 1 Hz Data with respect to Plasma Freqeuency\n",
    "\n",
    "This notebook explores the time evolution of power across various bands along with fluctuating ionosphere plasma frequency"
   ]
  },
  {
   "cell_type": "code",
   "execution_count": 21,
   "id": "0b46667b-52b3-4f4d-a7d8-d31acd86eb4f",
   "metadata": {},
   "outputs": [],
   "source": [
    "import numpy as np\n",
    "from matplotlib import pyplot as plt\n",
    "import pandas as pd\n",
    "import sys\n",
    "from os import path\n",
    "sys.path.append(path.expanduser('~'))"
   ]
  },
  {
   "cell_type": "code",
   "execution_count": 22,
   "id": "7ea8fefb-5056-46fc-8e9d-dce0202bc5a6",
   "metadata": {},
   "outputs": [
    {
     "name": "stdout",
     "output_type": "stream",
     "text": [
      "Loaded 65536 0.931 Hz frequency channels from 6774902.3 to 6835936.6 Hz between 2024-07-19 04:01:11 and 2024-07-19 04:07:04.261059999 (48 divisions)\n",
      "Loaded 1 Plasma frequency Data points from 2024-07-19 04:01:11 to 2024-07-19 04:07:04.261059999\n"
     ]
    }
   ],
   "source": [
    "# Load 1 Hz Data\n",
    "# fn_dat  = \"/project/s/sievers/philj0ly/xcorr_cpu/xcorr_all_ant_4bit_1721361571_458752_65536_14_6_7.npz\"\n",
    "# fn_dat = '/project/s/sievers/philj0ly/xcorr_cpu/xcorr_all_ant_4bit_1721361671_458752_65536_55_47_48_og.npz'\n",
    "fn_dat = '/project/s/sievers/philj0ly/xcorr_cpu/xcorr_all_ant_4bit_1721361671_458752_65536_55_47_48.npz'\n",
    "with np.load(fn_dat) as f:\n",
    "    data = f['data']\n",
    "    mask = f['mask']\n",
    "    missing_fraction = f['missing_fraction']\n",
    "    chans = f['chans']\n",
    "\n",
    "t0 = 1721361671\n",
    "df_record = 125e6/2048 # (Hz) frequency range / # of channels\n",
    "df = df_record/2**16\n",
    "N = 458752\n",
    "\n",
    "spectra = np.ma.MaskedArray(data=data, mask=mask)\n",
    "freqs = chans*df \n",
    "\n",
    "times = N/df_record*np.arange(48)+t0\n",
    "times = pd.to_datetime(times, unit='s')\n",
    "\n",
    "print(f\"Loaded {freqs.shape[0]} {df:.3f} Hz frequency channels from {freqs[0]:.1f} to {freqs[-1]:.1f} Hz between {times[0]} and {times[-1]} ({times.shape[0]} divisions)\")\n",
    "\n",
    "# Load A-CHAIM Data\n",
    "fn_plasma = \"/project/s/sievers/philj0ly/CHAIM/CSV/ACHAIM_nmf2.csv\"\n",
    "achaim = pd.read_csv(fn_plasma)\n",
    "   \n",
    "achaim[\"datetime\"] = pd.to_datetime(achaim[\"datetime\"], format=\"%y%m%d_%H%M%S\")\n",
    "achaim = achaim[(achaim['datetime'] >= times[0]) & (achaim['datetime'] <= times[-1])].copy()\n",
    "\n",
    "if len(achaim) == 0:\n",
    "    raise ValueError(f\"No plasma frequency data between {times[0]} and {times[-1]}\")\n",
    "else:\n",
    "    print(f\"Loaded {len(achaim)} Plasma frequency Data points from {times[0]} to {times[-1]}\")"
   ]
  },
  {
   "cell_type": "markdown",
   "id": "23f5b8e9",
   "metadata": {},
   "source": [
    "##  Data Visualisation"
   ]
  },
  {
   "cell_type": "code",
   "execution_count": 23,
   "id": "7e87d50f",
   "metadata": {},
   "outputs": [
    {
     "data": {
      "image/png": "[encoded data removed]",
      "text/plain": [
       "<Figure size 1000x500 with 1 Axes>"
      ]
     },
     "metadata": {},
     "output_type": "display_data"
    }
   ],
   "source": [
    "t = 203\n",
    "\n",
    "plt.figure(figsize=(10,5))\n",
    " \n",
    "plt.plot(freqs, np.log10(np.abs(spectra[0,0,:,1])), label=\"1 Hz\")\n",
    "\n",
    "\n",
    "# plt.ylim(0,5)\n",
    "dx = 60\n",
    "x0 = 4.32e6\n",
    "# plt.xlim(x0,x0+dx)\n",
    "plt.xlabel('Frequency (Hz)')   \n",
    "plt.ylabel('Log10 Amplitude')\n",
    "plt.legend()\n",
    "\n",
    "plt.show()"
   ]
  },
  {
   "cell_type": "code",
   "execution_count": 19,
   "id": "0bfe0ce2-23cd-4945-88b8-1d9456d59fbc",
   "metadata": {},
   "outputs": [
    {
     "name": "stdout",
     "output_type": "stream",
     "text": [
      "start frequency channel 47.0\n"
     ]
    }
   ],
   "source": [
    "print(\"start frequency channel\", freqs[0]/df_record-64)"
   ]
  },
  {
   "cell_type": "markdown",
   "id": "83f64c4c",
   "metadata": {},
   "source": [
    "This plot illustrates data amplitude across frequencies at particular times comparing the Orginal data from Mohan and my cpu as well as gpu implementation of xcorr re_pfb pipelines."
   ]
  },
  {
   "cell_type": "code",
   "execution_count": 20,
   "id": "1b969dcf",
   "metadata": {},
   "outputs": [
    {
     "ename": "IndexError",
     "evalue": "too many indices for array: array is 4-dimensional, but 5 were indexed",
     "output_type": "error",
     "traceback": [
      "\u001b[31m---------------------------------------------------------------------------\u001b[39m",
      "\u001b[31mIndexError\u001b[39m                                Traceback (most recent call last)",
      "\u001b[36mCell\u001b[39m\u001b[36m \u001b[39m\u001b[32mIn[20]\u001b[39m\u001b[32m, line 5\u001b[39m\n\u001b[32m      3\u001b[39m plt.figure(figsize=(\u001b[32m15\u001b[39m,\u001b[32m10\u001b[39m))\n\u001b[32m      4\u001b[39m \u001b[38;5;28;01mfor\u001b[39;00m i \u001b[38;5;129;01min\u001b[39;00m \u001b[38;5;28mrange\u001b[39m(\u001b[32m2\u001b[39m):    \n\u001b[32m----> \u001b[39m\u001b[32m5\u001b[39m     plt.plot(times, np.log10(np.abs(\u001b[43mspectra\u001b[49m\u001b[43m[\u001b[49m\u001b[43mi\u001b[49m\u001b[43m,\u001b[49m\u001b[32;43m0\u001b[39;49m\u001b[43m,\u001b[49m\u001b[32;43m0\u001b[39;49m\u001b[43m,\u001b[49m\u001b[43mf\u001b[49m\u001b[43m,\u001b[49m\u001b[43m:\u001b[49m\u001b[43m]\u001b[49m)), label=pu[i])\n\u001b[32m      7\u001b[39m plt.plot(times, np.log10(np.abs(spectra_og[\u001b[32m0\u001b[39m,\u001b[32m0\u001b[39m,f,:])), label=\u001b[33m\"\u001b[39m\u001b[33mOriginal\u001b[39m\u001b[33m\"\u001b[39m)\n\u001b[32m      9\u001b[39m plt.xlabel(\u001b[33m'\u001b[39m\u001b[33mTime (s)\u001b[39m\u001b[33m'\u001b[39m)   \n",
      "\u001b[36mFile \u001b[39m\u001b[32m/gpfs/fs1/home/s/sievers/philj0ly/Jupyter/lib/python3.11/site-packages/numpy/ma/core.py:3304\u001b[39m, in \u001b[36mMaskedArray.__getitem__\u001b[39m\u001b[34m(self, indx)\u001b[39m\n\u001b[32m   3294\u001b[39m \u001b[38;5;250m\u001b[39m\u001b[33;03m\"\"\"\u001b[39;00m\n\u001b[32m   3295\u001b[39m \u001b[33;03mx.__getitem__(y) <==> x[y]\u001b[39;00m\n\u001b[32m   3296\u001b[39m \n\u001b[32m   3297\u001b[39m \u001b[33;03mReturn the item described by i, as a masked array.\u001b[39;00m\n\u001b[32m   3298\u001b[39m \n\u001b[32m   3299\u001b[39m \u001b[33;03m\"\"\"\u001b[39;00m\n\u001b[32m   3300\u001b[39m \u001b[38;5;66;03m# We could directly use ndarray.__getitem__ on self.\u001b[39;00m\n\u001b[32m   3301\u001b[39m \u001b[38;5;66;03m# But then we would have to modify __array_finalize__ to prevent the\u001b[39;00m\n\u001b[32m   3302\u001b[39m \u001b[38;5;66;03m# mask of being reshaped if it hasn't been set up properly yet\u001b[39;00m\n\u001b[32m   3303\u001b[39m \u001b[38;5;66;03m# So it's easier to stick to the current version\u001b[39;00m\n\u001b[32m-> \u001b[39m\u001b[32m3304\u001b[39m dout = \u001b[38;5;28;43mself\u001b[39;49m\u001b[43m.\u001b[49m\u001b[43mdata\u001b[49m\u001b[43m[\u001b[49m\u001b[43mindx\u001b[49m\u001b[43m]\u001b[49m\n\u001b[32m   3305\u001b[39m _mask = \u001b[38;5;28mself\u001b[39m._mask\n\u001b[32m   3307\u001b[39m \u001b[38;5;28;01mdef\u001b[39;00m\u001b[38;5;250m \u001b[39m\u001b[34m_is_scalar\u001b[39m(m):\n",
      "\u001b[31mIndexError\u001b[39m: too many indices for array: array is 4-dimensional, but 5 were indexed"
     ]
    },
    {
     "data": {
      "text/plain": [
       "<Figure size 1500x1000 with 0 Axes>"
      ]
     },
     "metadata": {},
     "output_type": "display_data"
    }
   ],
   "source": [
    "f = 10\n",
    "\n",
    "plt.figure(figsize=(15,10))\n",
    "for i in range(2):    \n",
    "    plt.plot(times, np.log10(np.abs(spectra[i,0,0,f,:])), label=pu[i])\n",
    "\n",
    "plt.plot(times, np.log10(np.abs(spectra_og[0,0,f,:])), label=\"Original\")\n",
    "\n",
    "plt.xlabel('Time (s)')   \n",
    "plt.ylabel('Log10 Amplitude')\n",
    "plt.legend()\n",
    "\n",
    "plt.show()"
   ]
  },
  {
   "cell_type": "markdown",
   "id": "61b30f80",
   "metadata": {},
   "source": [
    "This plot illustrates the data's amplitude at given frequencies across time comparing the Orginal data from Mohan and my cpu as well as gpu implementation of xcorr re_pfb pipelines.\n",
    "\n",
    "Note that, as expected the GPU and CPU implementation match exactly the results from Mohan."
   ]
  }
 ],
 "metadata": {
  "kernelspec": {
   "display_name": "Jupyter",
   "language": "python",
   "name": "jupyter"
  },
  "language_info": {
   "codemirror_mode": {
    "name": "ipython",
    "version": 3
   },
   "file_extension": ".py",
   "mimetype": "text/x-python",
   "name": "python",
   "nbconvert_exporter": "python",
   "pygments_lexer": "ipython3",
   "version": "3.11.5"
  }
 },
 "nbformat": 4,
 "nbformat_minor": 5
}
