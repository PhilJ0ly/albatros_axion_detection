{
 "cells": [
  {
   "cell_type": "markdown",
   "id": "748a3d74",
   "metadata": {},
   "source": [
    "Philippe Joly 2025-05-26\n",
    "\n",
    "# Axion Signal Expectation\n",
    "\n",
    "This notebook is to characterize the expected signal from an axion-like particle (ALP) or a dark photon (DP) coming from the earth's ionosphere. The calculations are based on [Beadle C. *et al.*, 2024](https://journals.aps.org/prl/abstract/10.1103/PhysRevLett.133.251001)"
   ]
  },
  {
   "cell_type": "code",
   "execution_count": 3,
   "id": "a18774b8",
   "metadata": {},
   "outputs": [],
   "source": [
    "import numpy as np\n",
    "import matplotlib.pyplot as plt"
   ]
  },
  {
   "cell_type": "code",
   "execution_count": 23,
   "id": "92c2b75f",
   "metadata": {},
   "outputs": [],
   "source": [
    "# Natural units\n",
    "# hbar = c = 1\n",
    "# remaining unit chosen to be eV\n",
    "ev=1.602e-19 # eV->J\n",
    "\n",
    "h=6.626e-34 # Planck J s\n",
    "hbar_eV = h/(2*np.pi)/ev # Reduced Planck in eV s\n",
    "c=2.998e8 # Speed of Light m/s\n",
    "k_b = 1.380649e-23 # Boltzmann constant in m2 kg s-2 K-1\n",
    "\n",
    "eV_to_Hz = 1.519e15 # Taken from natural units chart\n",
    "natural_to_ms = 2.998e8 # Speed conversion (No dimensions since c=1 in natural units)\n",
    "eV2_to_W = 0.2434e-3 # eV^2 to W conversion\n",
    "eV_1_to_m = 1.973e-7 # eV^-1 to m conversion\n",
    "\n",
    "vc = 220e3 # Circular velocity of Milky Way\n",
    "sigma= np.sqrt(3/2)*vc\n",
    "v2 = 3*sigma**2 # Mean square velocity "
   ]
  },
  {
   "cell_type": "markdown",
   "id": "3055b7a5",
   "metadata": {},
   "source": [
    "## Frequency Peak and Width "
   ]
  },
  {
   "cell_type": "code",
   "execution_count": 5,
   "id": "03c418e9",
   "metadata": {},
   "outputs": [
    {
     "name": "stdout",
     "output_type": "stream",
     "text": [
      "------------\n",
      "m = 5e-09 eV\n",
      "Peak Frequency: 1.2087822809756414 MHz\n",
      "FWHM: 2.929156178258547 Hz\n",
      "------------\n",
      "m = 1e-08 eV\n",
      "Peak Frequency: 2.417564561951283 MHz\n",
      "FWHM: 5.858312356517094 Hz\n",
      "------------\n",
      "m = 1.5000000000000002e-08 eV\n",
      "Peak Frequency: 3.626346842926925 MHz\n",
      "FWHM: 8.787468534775643 Hz\n",
      "------------\n",
      "m = 2e-08 eV\n",
      "Peak Frequency: 4.835129123902566 MHz\n",
      "FWHM: 11.716624713034188 Hz\n",
      "------------\n",
      "m = 2.5e-08 eV\n",
      "Peak Frequency: 6.043911404878208 MHz\n",
      "FWHM: 14.645780891292732 Hz\n",
      "------------\n",
      "m = 3e-08 eV\n",
      "Peak Frequency: 7.252693685853849 MHz\n",
      "FWHM: 17.574937069551282 Hz\n",
      "------------\n",
      "m = 3.5e-08 eV\n",
      "Peak Frequency: 8.461475966829493 MHz\n",
      "FWHM: 20.504093247809827 Hz\n",
      "------------\n",
      "m = 4e-08 eV\n",
      "Peak Frequency: 9.670258247805132 MHz\n",
      "FWHM: 23.433249426068375 Hz\n",
      "------------\n",
      "m = 4.5e-08 eV\n",
      "Peak Frequency: 10.879040528780775 MHz\n",
      "FWHM: 26.362405604326923 Hz\n",
      "------------\n",
      "m = 5e-08 eV\n",
      "Peak Frequency: 12.087822809756416 MHz\n",
      "FWHM: 29.291561782585465 Hz\n"
     ]
    }
   ],
   "source": [
    "def peak_freq(m):\n",
    "   \"\"\"\n",
    "   Calculatesthe expected frequency peak and FWHM in Hz for a given DM particle of a given mass.\n",
    "   \n",
    "   Parameters:\n",
    "   m (float): mass of the DM particle in eV\n",
    "   \n",
    "   Returns:\n",
    "   (float, float) : peak frequency and the frequency distribution's FWHM\n",
    "   \"\"\"\n",
    "   return (\n",
    "        m*(1+v2/natural_to_ms**2/6)*eV_to_Hz/(2*np.pi), \n",
    "        m*v2/natural_to_ms**2*eV_to_Hz/(2*np.pi)\n",
    "    )\n",
    "\n",
    "m0 = 5e-9\n",
    "m_step = 5e-9\n",
    "\n",
    "for i in range(10):\n",
    "    f_peak, fwhm = peak_freq(m0+m_step*i)\n",
    "    print(\"------------\")\n",
    "    print(\"m =\", m0+m_step*i, \"eV\")\n",
    "    print(\"Peak Frequency:\", f_peak*1e-6, \"MHz\")\n",
    "    print(\"FWHM:\", fwhm, \"Hz\")"
   ]
  },
  {
   "cell_type": "markdown",
   "id": "339b54d7",
   "metadata": {},
   "source": [
    "## Frequency Distribution "
   ]
  },
  {
   "cell_type": "code",
   "execution_count": 6,
   "id": "83d61a04",
   "metadata": {},
   "outputs": [
    {
     "name": "stdout",
     "output_type": "stream",
     "text": [
      "------------\n",
      "m = 2e-08 eV\n",
      "g_eff: 9.999999999999999e-17\n",
      "------------\n",
      "m = 2.5e-08 eV\n",
      "g_eff: 7.999999999999999e-17\n",
      "------------\n",
      "m = 3.0000000000000004e-08 eV\n",
      "g_eff: 6.666666666666666e-17\n",
      "------------\n",
      "m = 3.5e-08 eV\n",
      "g_eff: 5.714285714285713e-17\n"
     ]
    }
   ],
   "source": [
    "def alp_g_eff(m, g_yy=1e-21, B=0.002):\n",
    "    \"\"\"\n",
    "    Calculate the effective coupling constant for ALPs.\n",
    "    \n",
    "    Parameters:\n",
    "    m (float): mass of the ALP in eV\n",
    "    g_yy (float): Coupling Strength in\n",
    "    eV^-1 (~1e-12 GeV^-1)\n",
    "    B (float): magnetic field in eV^2 (~0.002 eV^2)\n",
    "    \n",
    "    Returns:\n",
    "    float: effective coupling constant\n",
    "    \"\"\"\n",
    "    return B*g_yy/m\n",
    "\n",
    "m0 = 2e-8\n",
    "m_step = 5e-9\n",
    "\n",
    "for i in range(4):\n",
    "    g_eff = alp_g_eff(m0+m_step*i)\n",
    "    print(\"------------\")\n",
    "    print(\"m =\", m0+m_step*i, \"eV\")\n",
    "    print(\"g_eff:\", g_eff)"
   ]
  },
  {
   "cell_type": "code",
   "execution_count": 7,
   "id": "5b9cf4e4",
   "metadata": {},
   "outputs": [
    {
     "name": "stdout",
     "output_type": "stream",
     "text": [
      "------------\n",
      "m = 2e-08 eV\n",
      "DP rho_EM: 1.1910917887733435e-25 eV^4\n",
      "ALP rho_EM: 2.9777294719333586e-29 eV^4\n",
      "------------\n",
      "m = 2.5e-08 eV\n",
      "DP rho_EM: 1.198980144065039e-25 eV^4\n",
      "ALP rho_EM: 2.3979602881300782e-29 eV^4\n",
      "------------\n",
      "m = 3.0000000000000004e-08 eV\n",
      "DP rho_EM: 1.1998839226106708e-25 eV^4\n",
      "ALP rho_EM: 1.999806537684451e-29 eV^4\n",
      "------------\n",
      "m = 3.5e-08 eV\n",
      "DP rho_EM: 1.1999867971883856e-25 eV^4\n",
      "ALP rho_EM: 1.714266853126265e-29 eV^4\n"
     ]
    }
   ],
   "source": [
    "def EM_energy_density(m, g_eff):\n",
    "    \"\"\"\n",
    "    Calculate the energy density of the electromagnetic field.\n",
    "    This function is from Beadle 2024 (CERN) and holds within 10% for 1e-9 eV < m < 3e-8 eV\n",
    "    For a more precise approximation, numerical methods can be used.\n",
    "    \n",
    "    Parameters:\n",
    "    m (float): mass of the ALP in eV\n",
    "    g_eff (float): effective coupling constant\n",
    "    \n",
    "    Returns:\n",
    "    float: energy density in eV^4\n",
    "    \"\"\"\n",
    "    return 3e-23*(g_eff*1e10)/(1+np.exp(3.8-m/2.3e-9))\n",
    "\n",
    "dp_g_eff = 4e-13\n",
    "\n",
    "m0 = 2e-8\n",
    "m_step = 5e-9\n",
    "\n",
    "for i in range(4):\n",
    "    print(\"------------\")\n",
    "    print(\"m =\", m0+m_step*i, \"eV\")\n",
    "    print(\"DP rho_EM:\", EM_energy_density(m0+m_step*i, dp_g_eff), \"eV^4\")\n",
    "    print(\"ALP rho_EM:\", EM_energy_density(m0+m_step*i, alp_g_eff(m0+m_step*i)), \"eV^4\")"
   ]
  },
  {
   "cell_type": "code",
   "execution_count": 12,
   "id": "17b701c9",
   "metadata": {},
   "outputs": [
    {
     "data": {
      "image/png": "[encoded data removed]",
      "text/plain": [
       "<Figure size 720x432 with 1 Axes>"
      ]
     },
     "metadata": {
      "needs_background": "light"
     },
     "output_type": "display_data"
    }
   ],
   "source": [
    "def pdf(f, m):\n",
    "    \"\"\"\n",
    "    Calculate the frequency distribution of the signal.\n",
    "    \n",
    "    Parameters:\n",
    "    f (float): frequency in Hz\n",
    "    m (float): mass of the DM in eV\n",
    "    \n",
    "    Returns:\n",
    "    float: frequency distribution 1/Hz\n",
    "    \"\"\"\n",
    "    w = f*2*np.pi/eV_to_Hz # eV\n",
    "    w = np.abs(w)\n",
    "    w_array = np.asarray(w)\n",
    "    \n",
    "    result = np.zeros_like(w_array, dtype=float)\n",
    "    \n",
    "    mask = (w_array >= m)\n",
    "    scale_factor = m * v2/c**2/ 3\n",
    "    if np.any(mask):\n",
    "        x = w_array[mask] - m\n",
    "        result[mask] = np.sqrt(x/np.pi/(scale_factor)**3) * np.exp(-x/scale_factor) # (1/eV)\n",
    "        result /= eV_to_Hz # (1/Hz)\n",
    "    \n",
    "    if np.isscalar(w):\n",
    "        return float(result)\n",
    "    else:\n",
    "        return result\n",
    "    \n",
    "m0 = 2e-8 \n",
    "f_peak, fwhm = peak_freq(m0)\n",
    "f = np.linspace(f_peak-5, f_peak+3*fwhm, 1000) \n",
    "f_dis = pdf(f,m0)\n",
    "\n",
    "plt.figure(figsize=(10,6))\n",
    "plt.plot(f, f_dis)\n",
    "plt.xlabel(\"Frequency (Hz)\")\n",
    "plt.ylabel(r\"$f(\\omega)$\")\n",
    "plt.title(\"Frequency Distribution\")\n",
    "plt.show()"
   ]
  },
  {
   "cell_type": "markdown",
   "id": "c00161b9",
   "metadata": {},
   "source": [
    "## Power Spectral Distribution "
   ]
  },
  {
   "cell_type": "code",
   "execution_count": 28,
   "id": "58097b2e",
   "metadata": {},
   "outputs": [
    {
     "data": {
      "image/png": "[encoded data removed]",
      "text/plain": [
       "<Figure size 720x432 with 2 Axes>"
      ]
     },
     "metadata": {
      "needs_background": "light"
     },
     "output_type": "display_data"
    }
   ],
   "source": [
    "def get_flux(m, g_eff):\n",
    "    \"\"\"\n",
    "    Calculate the Expected flux on earth.\n",
    "    \n",
    "    Parameters:\n",
    "    m (float): mass of the DM in eV\n",
    "    g_eff (float): effective coupling constant\n",
    "    \n",
    "    Returns:\n",
    "    Array (float): Flux in W/ m2 Hz\n",
    "    \"\"\"\n",
    "    rho_EM = EM_energy_density(m, g_eff) # eV^4\n",
    "    \n",
    "    f_peak, fwhm = peak_freq(m)\n",
    "    f = np.linspace(f_peak-3, f_peak+3*fwhm, 1000) \n",
    "    w = f*2*np.pi/eV_to_Hz # eV\n",
    "    f_dis = pdf(f,m0) # (1/Hz)\n",
    "    \n",
    "    S_sig = 4*np.pi*(w/m)**2*rho_EM*f_dis # eV^4/Hz\n",
    "    S_sig *= eV2_to_W/eV_1_to_m**2\n",
    "    \n",
    "    return (f, S_sig)\n",
    "\n",
    "m0 = 2e-8\n",
    "f_DP, S_DP = get_flux(m0, 4e-13)\n",
    "f_ALP, S_ALP = get_flux(m0, alp_g_eff(m0))\n",
    "    \n",
    "# plt.figure(figsize=(10,6))\n",
    "# plt.plot(f_DP, S_DP, label=\"DP\")\n",
    "# plt.plot(f_ALP, S_ALP, label=\"ALP\")\n",
    "# plt.title(f\"m = {m0} eV\")\n",
    "# plt.xlabel(\"Frequency (Hz)\")\n",
    "# plt.yscale('log')\n",
    "# plt.ylabel(\"PSD W / m2 Hz\")\n",
    "# plt.title(\"Flux\")\n",
    "# plt.legend()\n",
    "# plt.show()   \n",
    "\n",
    "fig, ax1 = plt.subplots(figsize=(10, 6))\n",
    "\n",
    "ax1.plot(f_DP, S_DP, label=\"DP\")\n",
    "ax1.plot(f_ALP, S_ALP, label=\"ALP\")\n",
    "ax1.set_xlabel(\"Frequency (Hz)\")\n",
    "ax1.set_ylabel(\"PSD (W / m² Hz)\")\n",
    "ax1.set_yscale('log')\n",
    "ax1.set_title(f\"Flux DM particle of mass {m0} eV\")\n",
    "ax1.legend(loc=\"upper right\")\n",
    "\n",
    "ax2 = ax1.twinx()\n",
    "ax2.set_ylabel(\"Antenna Temperature (K)\")\n",
    "\n",
    "psd_min, psd_max = ax1.get_ylim()\n",
    "T_min = psd_min /  k_b\n",
    "T_max = psd_max / k_b\n",
    "\n",
    "ax2.set_ylim(T_min, T_max)\n",
    "ax2.set_yscale('log')\n",
    "\n",
    "plt.show()"
   ]
  },
  {
   "cell_type": "markdown",
   "id": "c010882d",
   "metadata": {},
   "source": [
    "## Signal to Noise "
   ]
  }
 ],
 "metadata": {
  "kernelspec": {
   "display_name": "Jupyter",
   "language": "python",
   "name": "jupyter"
  },
  "language_info": {
   "codemirror_mode": {
    "name": "ipython",
    "version": 3
   },
   "file_extension": ".py",
   "mimetype": "text/x-python",
   "name": "python",
   "nbconvert_exporter": "python",
   "pygments_lexer": "ipython3",
   "version": "3.6.8"
  }
 },
 "nbformat": 4,
 "nbformat_minor": 5
}
